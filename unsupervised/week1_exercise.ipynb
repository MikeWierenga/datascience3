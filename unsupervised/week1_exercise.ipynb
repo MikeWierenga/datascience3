{
 "cells": [
  {
   "cell_type": "markdown",
   "id": "633679fc",
   "metadata": {},
   "source": [
    "## Portfolio Assignment week 01\n",
    "\n",
    "Study the Tutorial tutorial_cluster_scanpy_object and the tutorial_Clustering_Methods\n",
    "\n",
    "Write a brief summary about the following:\n",
    "\n",
    "-\tWhat are common preprocessing steps? Explain for each step why and when you should execute this step and when not.\n",
    "-\tWhat visualization methods are used in the cluster methods tutorial? Explain why the selected method is the most appropriate method for the visualization. Bonus points: do this as well for the scanpy tutorial.\n",
    "-\tWhat performance/evaluation metrics are in the cluster methods tutorial? Explain why the used methods are the most appropriate method for the evaluation.\n",
    "\n",
    "\n",
    "Bonus:\n",
    "You practice the steps yourself with the breast_cancer dataset (clustering_data.csv)\n",
    "\n"
   ]
  },
  {
   "cell_type": "markdown",
   "id": "e9ca5c3c",
   "metadata": {},
   "source": [
    "# What are common preprocessing steps?\n",
    "Explain for each step why and when you should execute this step and when not"
   ]
  },
  {
   "cell_type": "markdown",
   "id": "fd663184",
   "metadata": {},
   "source": [
    "# What visualization methods are used in the cluster methods tutorial?\n",
    "explain why the selected method is the most appropriate method for the visualization. bonus points: do this as well for the scanpy tutorial"
   ]
  },
  {
   "cell_type": "markdown",
   "id": "ca64f8e2",
   "metadata": {},
   "source": [
    "# What performance/evaluation metrics are in the cluster methods tutorial?\n",
    "explain why the used methods are the most appropriate method for the evaluation\n"
   ]
  },
  {
   "cell_type": "markdown",
   "id": "5252b405",
   "metadata": {},
   "source": [
    "Bonus: you practice the steps yourself with the breast_cancer dataset(clustering_data.csv)"
   ]
  }
 ],
 "metadata": {
  "kernelspec": {
   "display_name": "Python 3 (ipykernel)",
   "language": "python",
   "name": "python3"
  },
  "language_info": {
   "codemirror_mode": {
    "name": "ipython",
    "version": 3
   },
   "file_extension": ".py",
   "mimetype": "text/x-python",
   "name": "python",
   "nbconvert_exporter": "python",
   "pygments_lexer": "ipython3",
   "version": "3.10.8"
  }
 },
 "nbformat": 4,
 "nbformat_minor": 5
}
