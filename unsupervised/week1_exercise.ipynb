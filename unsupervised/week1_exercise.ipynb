{
 "cells": [
  {
   "cell_type": "markdown",
   "id": "633679fc",
   "metadata": {},
   "source": [
    "## Portfolio Assignment week 01\n",
    "\n",
    "Study the Tutorial tutorial_cluster_scanpy_object and the tutorial_Clustering_Methods\n",
    "\n",
    "Write a brief summary about the following:\n",
    "\n",
    "-\tWhat are common preprocessing steps? Explain for each step why and when you should execute this step and when not.\n",
    "-\tWhat visualization methods are used in the cluster methods tutorial? Explain why the selected method is the most appropriate method for the visualization. Bonus points: do this as well for the scanpy tutorial.\n",
    "-\tWhat performance/evaluation metrics are in the cluster methods tutorial? Explain why the used methods are the most appropriate method for the evaluation.\n",
    "\n",
    "\n",
    "Bonus:\n",
    "You practice the steps yourself with the breast_cancer dataset (clustering_data.csv)\n",
    "\n"
   ]
  },
  {
   "cell_type": "markdown",
   "id": "e9ca5c3c",
   "metadata": {},
   "source": [
    "# What are common preprocessing steps?\n",
    "Explain for each step why and when you should execute this step and when not\n",
    "- __filtering the dataset__\n",
    "    - this step is used when you don't need the whole dataset but a part of it\n",
    "    - example: wine dataset when you only want to use white wines\n",
    "- __dealing with nan/null values__\n",
    "    - this step is used when you have nan or null values in your dataset\n",
    "    - there are several methods to deal with nan/null values\n",
    "        - remove the row\n",
    "        - set the value to zero\n",
    "        - set the value to the average out of all the other values in that column\n",
    "- __Normalization__\n",
    "    - this step can be used when:\n",
    "        - Your values are far apart from eachother and you want to implement PCA\n",
    "- __Dimensionality reduction__\n",
    "    - This step is used to  increasing the interpretabillity of data while preserving the maximum amount of information, and enabling the visualization of multidimensional data"
   ]
  },
  {
   "cell_type": "markdown",
   "id": "fd663184",
   "metadata": {},
   "source": [
    "# What visualization methods are used in the cluster methods tutorial?\n",
    "explain why the selected method is the most appropriate method for the visualization. bonus points: do this as well for the scanpy tutorial.\n",
    "\n",
    "__tutorial clustering methods__\n",
    "- __histogram__\n",
    "    - this visualization to see the distribution of both red and white wine\n",
    "- __pairplot__ \n",
    "    - This is used to see which features in the dataset show a difference between red and white wine\n",
    "\n",
    "- __inertia plot__\n",
    "    - This is used to select to cluster amount\n",
    "\n",
    "- __dendogram__\n",
    "    - This is used to show the hierarchical relations between objects\n",
    "    \n",
    "    "
   ]
  },
  {
   "cell_type": "markdown",
   "id": "ca64f8e2",
   "metadata": {},
   "source": [
    "# What performance/evaluation metrics are in the cluster methods tutorial?\n",
    "explain why the used methods are the most appropriate method for the evaluation\n",
    "\n",
    "__tutorial clustering methods__\n",
    "- __prediction__\n",
    "    - in this tutorial the estimated is predicted against the actual score \n",
    "    - after this step the average is returned as the roc auc score to evaluate the usage of kmeans as input to random forest\n",
    "\n",
    "__tutorial cluster scanpy object__\n",
    "- __Umap__\n",
    "    - to see how well clusters are made a Umap is created to see how different the clusters are.\n"
   ]
  },
  {
   "cell_type": "markdown",
   "id": "5252b405",
   "metadata": {},
   "source": [
    "Bonus: you practice the steps yourself with the breast_cancer dataset(clustering_data.csv)"
   ]
  }
 ],
 "metadata": {
  "kernelspec": {
   "display_name": "Python 3 (ipykernel)",
   "language": "python",
   "name": "python3"
  },
  "language_info": {
   "codemirror_mode": {
    "name": "ipython",
    "version": 3
   },
   "file_extension": ".py",
   "mimetype": "text/x-python",
   "name": "python",
   "nbconvert_exporter": "python",
   "pygments_lexer": "ipython3",
   "version": "3.10.8"
  }
 },
 "nbformat": 4,
 "nbformat_minor": 5
}
